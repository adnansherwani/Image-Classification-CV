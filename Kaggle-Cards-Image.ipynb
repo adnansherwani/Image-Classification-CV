{
 "cells": [
  {
   "cell_type": "code",
   "execution_count": 6,
   "metadata": {},
   "outputs": [],
   "source": [
    "!pip install -U -q kaggle\n",
    "!mkdir -p ~/.kaggle\n",
    "!echo '{\"username\":\"adnansherwani\",\"key\":\"89ca05a09e32a04eba178df95ed69952\"}' > ~/.kaggle/kaggle.json\n",
    "!chmod 600 ~/.kaggle/kaggle.json"
   ]
  },
  {
   "cell_type": "code",
   "execution_count": 8,
   "metadata": {},
   "outputs": [
    {
     "name": "stdout",
     "output_type": "stream",
     "text": [
      "Dataset URL: https://www.kaggle.com/datasets/gpiosenka/cards-image-datasetclassification\n",
      "License(s): CC0-1.0\n",
      "Downloading cards-image-datasetclassification.zip to /mnt/batch/tasks/shared/LS_root/mounts/clusters/projectclassification/code\n",
      "100%|███████████████████████████████████████▉| 384M/385M [00:16<00:00, 20.2MB/s]\n",
      "100%|████████████████████████████████████████| 385M/385M [00:16<00:00, 24.8MB/s]\n"
     ]
    }
   ],
   "source": [
    "!kaggle datasets download -d gpiosenka/cards-image-datasetclassification"
   ]
  },
  {
   "cell_type": "code",
   "execution_count": null,
   "metadata": {},
   "outputs": [],
   "source": [
    "!kaggle datasets download -d gpiosenka/cards-image-datasetclassification -p \"/D:\\Adnan\\Project Data\\Python Programming\\Image Classification CV\\Cards Image Classification\""
   ]
  }
 ],
 "metadata": {
  "kernelspec": {
   "display_name": "Python 3.8 - Pytorch and Tensorflow",
   "language": "python",
   "name": "python38-azureml-pt-tf"
  },
  "language_info": {
   "codemirror_mode": {
    "name": "ipython",
    "version": 3
   },
   "file_extension": ".py",
   "mimetype": "text/x-python",
   "name": "python",
   "nbconvert_exporter": "python",
   "pygments_lexer": "ipython3",
   "version": "3.9.19"
  }
 },
 "nbformat": 4,
 "nbformat_minor": 2
}
